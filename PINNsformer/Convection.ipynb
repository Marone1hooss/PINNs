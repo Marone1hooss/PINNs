{
 "cells": [
  {
   "cell_type": "code",
   "execution_count": 1,
   "metadata": {},
   "outputs": [],
   "source": [
    "import torch\n",
    "import torch.nn as nn\n",
    "import torch.autograd as autograd\n",
    "import matplotlib.pyplot as plt\n",
    "import copy\n",
    "import numpy as np\n",
    "import random\n",
    "from torch.optim import LBFGS\n",
    "from tqdm import tqdm\n",
    "import scipy.io"
   ]
  },
  {
   "cell_type": "code",
   "execution_count": 2,
   "metadata": {},
   "outputs": [],
   "source": [
    "\n",
    "\n",
    "def get_data(x_range, y_range, x_num, y_num):\n",
    "    x = np.linspace(x_range[0], x_range[1], x_num)\n",
    "    t = np.linspace(y_range[0], y_range[1], y_num)\n",
    "\n",
    "    x_mesh, t_mesh = np.meshgrid(x,t)\n",
    "    data = np.concatenate((np.expand_dims(x_mesh, -1), np.expand_dims(t_mesh, -1)), axis=-1)\n",
    "    \n",
    "    b_left = data[0,:,:] \n",
    "    b_right = data[-1,:,:]\n",
    "    b_upper = data[:,-1,:]\n",
    "    b_lower = data[:,0,:]\n",
    "    res = data.reshape(-1,2)\n",
    "\n",
    "    return res, b_left, b_right, b_upper, b_lower\n",
    "\n",
    "\n",
    "\n",
    "def make_time_sequence(src, num_step=5, step=1e-4):\n",
    "    dim = num_step\n",
    "    src = np.repeat(np.expand_dims(src, axis=1), dim, axis=1)  # (N, L, 2)\n",
    "    for i in range(num_step):\n",
    "        src[:,i,-1] += step*i\n",
    "    return src"
   ]
  },
  {
   "cell_type": "code",
   "execution_count": 3,
   "metadata": {},
   "outputs": [
    {
     "name": "stdout",
     "output_type": "stream",
     "text": [
      "Using cuda\n"
     ]
    }
   ],
   "source": [
    "# implementation of PINNsformer\n",
    "# paper: PINNsFormer: A Transformer-Based Framework For Physics-Informed Neural Networks\n",
    "# link: https://arxiv.org/abs/2307.11833\n",
    "\n",
    "\n",
    "\n",
    "torch.manual_seed(0)\n",
    "\n",
    "device = torch.device(\"cuda\" if torch.cuda.is_available() else \"cpu\")\n",
    "print(f\"Using {device}\")\n",
    "\n",
    "def get_clones(module, N):\n",
    "    return nn.ModuleList([copy.deepcopy(module) for _ in range(N)])\n",
    "\n",
    "class WaveAct(nn.Module):\n",
    "    def __init__(self):\n",
    "        super(WaveAct, self).__init__() \n",
    "        self.w1 = nn.Parameter(torch.ones(1), requires_grad=True)\n",
    "        self.w2 = nn.Parameter(torch.ones(1), requires_grad=True)\n",
    "\n",
    "    def forward(self, x):\n",
    "        return self.w1 * torch.sin(x)+ self.w2 * torch.cos(x)\n",
    "\n",
    "class FeedForward(nn.Module):\n",
    "    def __init__(self, d_model, d_ff=256):\n",
    "        super(FeedForward, self).__init__() \n",
    "        self.linear = nn.Sequential(*[\n",
    "            nn.Linear(d_model, d_ff),\n",
    "            WaveAct(),\n",
    "            nn.Linear(d_ff, d_ff),\n",
    "            WaveAct(),\n",
    "            nn.Linear(d_ff, d_model)\n",
    "        ])\n",
    "\n",
    "    def forward(self, x):\n",
    "        return self.linear(x)\n",
    "\n",
    "\n",
    "class EncoderLayer(nn.Module):\n",
    "    def __init__(self, d_model, heads):\n",
    "        super(EncoderLayer, self).__init__()\n",
    "\n",
    "        self.attn = nn.MultiheadAttention(embed_dim=d_model, num_heads=heads, batch_first=True)\n",
    "        self.ff = FeedForward(d_model)\n",
    "        self.act1 = WaveAct()\n",
    "        self.act2 = WaveAct()\n",
    "        \n",
    "    def forward(self, x):\n",
    "        x2 = self.act1(x)\n",
    "        # pdb.set_trace()\n",
    "        x = x + self.attn(x2,x2,x2)[0]\n",
    "        x2 = self.act2(x)\n",
    "        x = x + self.ff(x2)\n",
    "        return x\n",
    "\n",
    "\n",
    "class DecoderLayer(nn.Module):\n",
    "    def __init__(self, d_model, heads):\n",
    "        super(DecoderLayer, self).__init__()\n",
    "\n",
    "        self.attn = nn.MultiheadAttention(embed_dim=d_model, num_heads=heads, batch_first=True)\n",
    "        self.ff = FeedForward(d_model)\n",
    "        self.act1 = WaveAct()\n",
    "        self.act2 = WaveAct()\n",
    "\n",
    "    def forward(self, x, e_outputs): \n",
    "        x2 = self.act1(x)\n",
    "        x = x + self.attn(x2, e_outputs, e_outputs)[0]\n",
    "        x2 = self.act2(x)\n",
    "        x = x + self.ff(x2)\n",
    "        return x\n",
    "\n",
    "\n",
    "class Encoder(nn.Module):\n",
    "    def __init__(self, d_model, N, heads):\n",
    "        super(Encoder, self).__init__()\n",
    "        self.N = N\n",
    "        self.layers = get_clones(EncoderLayer(d_model, heads), N)\n",
    "        self.act = WaveAct()\n",
    "\n",
    "    def forward(self, x):\n",
    "        for i in range(self.N):\n",
    "            x = self.layers[i](x)\n",
    "        return self.act(x)\n",
    "\n",
    "\n",
    "class Decoder(nn.Module):\n",
    "    def __init__(self, d_model, N, heads):\n",
    "        super(Decoder, self).__init__()\n",
    "        self.N = N\n",
    "        self.layers = get_clones(DecoderLayer(d_model, heads), N)\n",
    "        self.act = WaveAct()\n",
    "        \n",
    "    def forward(self, x, e_outputs):\n",
    "        for i in range(self.N):\n",
    "            x = self.layers[i](x, e_outputs)\n",
    "        return self.act(x)\n",
    "\n",
    "\n",
    "\n",
    "class PINNsformer(nn.Module):\n",
    "    def __init__(self, d_out, d_model, d_hidden, N, heads):\n",
    "        super(PINNsformer, self).__init__()\n",
    "\n",
    "        self.linear_emb = nn.Linear(2, d_model)\n",
    "\n",
    "        self.encoder = Encoder(d_model, N, heads)\n",
    "        self.decoder = Decoder(d_model, N, heads)\n",
    "        self.linear_out = nn.Sequential(*[\n",
    "            nn.Linear(d_model, d_hidden),\n",
    "            WaveAct(),\n",
    "            nn.Linear(d_hidden, d_hidden),\n",
    "            WaveAct(),\n",
    "            nn.Linear(d_hidden, d_out)\n",
    "        ])\n",
    "\n",
    "    def forward(self, x, t):\n",
    "        src = torch.cat((x,t), dim=-1)\n",
    "        src = self.linear_emb(src)\n",
    "\n",
    "        e_outputs = self.encoder(src)\n",
    "        d_output = self.decoder(src, e_outputs)\n",
    "        output = self.linear_out(d_output)\n",
    "        # pdb.set_trace()\n",
    "        # raise Exception('stop')\n",
    "        return output"
   ]
  },
  {
   "cell_type": "markdown",
   "metadata": {},
   "source": [
    "# Convection PDE\n",
    "\n",
    "The one-dimensional convection problem is a hyperbolic PDE that is commonly used to model transport phenomena. The system has the formulation with periodic boundary conditions as follows:\n",
    "\n",
    "## Governing Equation\n",
    "$$\\frac{\\partial u}{\\partial t} + \\beta \\frac{\\partial u}{\\partial x} = 0, \\quad \\forall x \\in [0, 2\\pi], \\, t \\in [0, 1]$$\n",
    "\n",
    "## Initial Condition (IC)\n",
    "$$u(x, 0) = \\sin(x)$$\n",
    "\n",
    "## Boundary Condition (BC)\n",
    "$$u(0, t) = u(2\\pi, t)$$"
   ]
  },
  {
   "cell_type": "code",
   "execution_count": 4,
   "metadata": {},
   "outputs": [],
   "source": [
    "# -----------------------------------------------------------------------------\n",
    "# Training data (collocation + IC + BC)\n",
    "# -----------------------------------------------------------------------------\n",
    "T_final = 1\n",
    "L_finale=2*torch.pi\n",
    "N_f = 101 # interior collocation points\n",
    "N_i = 51     # initial‑condition points\n",
    "N_b = 51    # boundary‑condition points\n",
    "Beta = 50\n",
    "\n",
    "\n",
    "\n",
    "\n",
    "# Train PINNsFormer\n",
    "res, b_t_initial, b_t_final, b_x_end, b_x_start = get_data([0, 2*np.pi], [0, 1], 51, 51)\n",
    "res_test, _, _, _, _ = get_data([0, 2*np.pi], [0, 1], 101, 101)\n",
    "\n",
    "# Generate pseudo-sequences for time-stepping\n",
    "res = make_time_sequence(res, num_step=5, step=1e-4)\n",
    "b_t_initial = make_time_sequence(b_t_initial, num_step=5, step=1e-4)\n",
    "b_t_final = make_time_sequence(b_t_final, num_step=5, step=1e-4)\n",
    "b_x_end = make_time_sequence(b_x_end, num_step=5, step=1e-4)\n",
    "b_x_start = make_time_sequence(b_x_start, num_step=5, step=1e-4)\n",
    "\n",
    "# Convert to PyTorch tensors\n",
    "res = torch.tensor(res, dtype=torch.float32, requires_grad=True).to(device)\n",
    "b_t_initial = torch.tensor(b_t_initial, dtype=torch.float32, requires_grad=True).to(device)\n",
    "b_t_final = torch.tensor(b_t_final, dtype=torch.float32, requires_grad=True).to(device)\n",
    "b_x_end = torch.tensor(b_x_end, dtype=torch.float32, requires_grad=True).to(device)\n",
    "b_x_start = torch.tensor(b_x_start, dtype=torch.float32, requires_grad=True).to(device)\n",
    "\n",
    "# Separate x and t components\n",
    "x_res, t_res = res[:, :, 0:1], res[:, :, 1:2]\n",
    "x_t_initial, t_t_initial = b_t_initial[:, :, 0:1], b_t_initial[:, :, 1:2]\n",
    "x_t_final, t_t_final = b_t_final[:, :, 0:1], b_t_final[:, :, 1:2]\n",
    "x_x_end, t_x_end = b_x_end[:, :, 0:1], b_x_end[:, :, 1:2]\n",
    "x_x_start, t_x_start = b_x_start[:, :, 0:1], b_x_start[:, :, 1:2]\n",
    "\n",
    "\n",
    "\n",
    "u_i = torch.sin(torch.pi * x_t_initial)\n",
    "\n",
    "\n",
    "\n",
    "\n",
    "\n",
    "\n",
    "\n",
    "\n"
   ]
  },
  {
   "cell_type": "code",
   "execution_count": 29,
   "metadata": {},
   "outputs": [
    {
     "name": "stdout",
     "output_type": "stream",
     "text": [
      "PINNsformer(\n",
      "  (linear_emb): Linear(in_features=2, out_features=32, bias=True)\n",
      "  (encoder): Encoder(\n",
      "    (layers): ModuleList(\n",
      "      (0): EncoderLayer(\n",
      "        (attn): MultiheadAttention(\n",
      "          (out_proj): NonDynamicallyQuantizableLinear(in_features=32, out_features=32, bias=True)\n",
      "        )\n",
      "        (ff): FeedForward(\n",
      "          (linear): Sequential(\n",
      "            (0): Linear(in_features=32, out_features=256, bias=True)\n",
      "            (1): WaveAct()\n",
      "            (2): Linear(in_features=256, out_features=256, bias=True)\n",
      "            (3): WaveAct()\n",
      "            (4): Linear(in_features=256, out_features=32, bias=True)\n",
      "          )\n",
      "        )\n",
      "        (act1): WaveAct()\n",
      "        (act2): WaveAct()\n",
      "      )\n",
      "    )\n",
      "    (act): WaveAct()\n",
      "  )\n",
      "  (decoder): Decoder(\n",
      "    (layers): ModuleList(\n",
      "      (0): DecoderLayer(\n",
      "        (attn): MultiheadAttention(\n",
      "          (out_proj): NonDynamicallyQuantizableLinear(in_features=32, out_features=32, bias=True)\n",
      "        )\n",
      "        (ff): FeedForward(\n",
      "          (linear): Sequential(\n",
      "            (0): Linear(in_features=32, out_features=256, bias=True)\n",
      "            (1): WaveAct()\n",
      "            (2): Linear(in_features=256, out_features=256, bias=True)\n",
      "            (3): WaveAct()\n",
      "            (4): Linear(in_features=256, out_features=32, bias=True)\n",
      "          )\n",
      "        )\n",
      "        (act1): WaveAct()\n",
      "        (act2): WaveAct()\n",
      "      )\n",
      "    )\n",
      "    (act): WaveAct()\n",
      "  )\n",
      "  (linear_out): Sequential(\n",
      "    (0): Linear(in_features=32, out_features=512, bias=True)\n",
      "    (1): WaveAct()\n",
      "    (2): Linear(in_features=512, out_features=512, bias=True)\n",
      "    (3): WaveAct()\n",
      "    (4): Linear(in_features=512, out_features=1, bias=True)\n",
      "  )\n",
      ")\n"
     ]
    },
    {
     "name": "stderr",
     "output_type": "stream",
     "text": [
      "<ipython-input-29-8f6050db4806>:3: UserWarning: nn.init.xavier_uniform is now deprecated in favor of nn.init.xavier_uniform_.\n",
      "  torch.nn.init.xavier_uniform(m.weight)\n"
     ]
    }
   ],
   "source": [
    "def init_weights(m):\n",
    "    if isinstance(m, nn.Linear):\n",
    "        torch.nn.init.xavier_uniform(m.weight)\n",
    "        m.bias.data.fill_(0.01)\n",
    "\n",
    "model = PINNsformer(d_out=1, d_hidden=512, d_model=32, N=1, heads=2).to(device)\n",
    "\n",
    "model.apply(init_weights)\n",
    "optim = LBFGS(model.parameters(), line_search_fn='strong_wolfe')\n",
    "\n",
    "print(model)\n",
    "\n"
   ]
  },
  {
   "cell_type": "code",
   "execution_count": 38,
   "metadata": {},
   "outputs": [],
   "source": [
    "def pde_residual(model: nn.Module, x: torch.Tensor, t: torch.Tensor,a=50):\n",
    "    \"\"\"Compute residual f(x,t) = ∂u/∂t + a ∂u/∂x.\"\"\"\n",
    "    x.requires_grad_(True)\n",
    "    t.requires_grad_(True)\n",
    "\n",
    "    u = model(x, t)\n",
    "    # ∂u/∂t\n",
    "    u_t = torch.autograd.grad(u, t,\n",
    "                        grad_outputs=torch.ones_like(u),\n",
    "                        create_graph=True,\n",
    "                        retain_graph=True )[0]\n",
    "    # ∂u/∂x\n",
    "    u_x = torch.autograd.grad(u, x,\n",
    "                        grad_outputs=torch.ones_like(u),\n",
    "                        create_graph=True,\n",
    "                        retain_graph=True )[0]\n",
    "\n",
    "    return u_t + a * u_x  # residual should be ≈ 0"
   ]
  },
  {
   "cell_type": "code",
   "execution_count": 45,
   "metadata": {},
   "outputs": [],
   "source": [
    "def loss_components(model):\n",
    "    \"\"\"Returns individual MSE losses: residual, IC, BC.\"\"\"\n",
    "    f = pde_residual(model, x_res, t_res,Beta)\n",
    "\n",
    "    u_pred_i = model(x_t_initial, t_t_initial)\n",
    "\n",
    "\n",
    "    u_pred_b_start = model(x_x_start, t_x_start)\n",
    "    \n",
    "    u_pred_b_end = model(x_x_end, t_x_end)\n",
    "\n",
    "\n",
    "    loss_f = torch.mean(f ** 2)\n",
    "    loss_i = torch.mean((u_pred_i[:,0] - torch.sin(x_t_initial[:,0])) ** 2)\n",
    "    loss_b = torch.mean((u_pred_b_start - u_pred_b_end) ** 2)\n",
    "\n",
    "\n",
    "    return loss_f, loss_i, loss_b"
   ]
  },
  {
   "cell_type": "code",
   "execution_count": 30,
   "metadata": {},
   "outputs": [
    {
     "name": "stderr",
     "output_type": "stream",
     "text": [
      "100%|██████████| 500/500 [07:40<00:00,  1.09it/s]\n"
     ]
    }
   ],
   "source": [
    "loss_track = []\n",
    "\n",
    "for i in tqdm(range(500)):\n",
    "    def closure():\n",
    "        pred_res = model(x_res, t_res)\n",
    "        pred_end = model(x_x_end, t_x_end)\n",
    "        pred_start = model(x_x_start, t_x_start)\n",
    "\n",
    "        pred_initial = model(x_t_initial, t_t_initial)\n",
    "        u_x = torch.autograd.grad(pred_res, x_res, grad_outputs=torch.ones_like(pred_res), retain_graph=True, create_graph=True)[0]\n",
    "        u_t = torch.autograd.grad(pred_res, t_res, grad_outputs=torch.ones_like(pred_res), retain_graph=True, create_graph=True)[0]\n",
    "\n",
    "        loss_res = torch.mean((u_t + 50 * u_x) ** 2)\n",
    "        loss_bc = torch.mean((pred_end - pred_start) ** 2)\n",
    "        loss_ic = torch.mean((pred_initial[:,0] - torch.sin(x_t_initial[:,0])) ** 2)\n",
    "\n",
    "        loss_track.append([loss_res.item(), loss_bc.item(), loss_ic.item()])\n",
    "\n",
    "        loss = loss_res + loss_bc + loss_ic\n",
    "        optim.zero_grad()\n",
    "        loss.backward()\n",
    "        return loss\n",
    "    \n",
    "    optim.step(closure)"
   ]
  },
  {
   "cell_type": "code",
   "execution_count": 33,
   "metadata": {},
   "outputs": [
    {
     "name": "stdout",
     "output_type": "stream",
     "text": [
      "Loss Res: 0.000001, Loss_BC: 0.000064, Loss_IC: 0.000007\n",
      "Train Loss: 0.000072\n"
     ]
    }
   ],
   "source": [
    "print('Loss Res: {:4f}, Loss_BC: {:4f}, Loss_IC: {:4f}'.format(loss_track[-1][0], loss_track[-1][1], loss_track[-1][2]))\n",
    "print('Train Loss: {:4f}'.format(np.sum(loss_track[-1])))"
   ]
  },
  {
   "cell_type": "code",
   "execution_count": 47,
   "metadata": {},
   "outputs": [
    {
     "name": "stderr",
     "output_type": "stream",
     "text": [
      "<ipython-input-29-8f6050db4806>:3: UserWarning: nn.init.xavier_uniform is now deprecated in favor of nn.init.xavier_uniform_.\n",
      "  torch.nn.init.xavier_uniform(m.weight)\n",
      "  0%|          | 0/500 [00:00<?, ?it/s]"
     ]
    },
    {
     "name": "stderr",
     "output_type": "stream",
     "text": [
      "  0%|          | 1/500 [00:01<09:10,  1.10s/it]"
     ]
    },
    {
     "name": "stdout",
     "output_type": "stream",
     "text": [
      "Step 0: total=0.5122129917144775 (res=0.0195306483656168, IC=0.4923877418041229, BC=0.00029464124236255884)\n"
     ]
    },
    {
     "name": "stderr",
     "output_type": "stream",
     "text": [
      " 10%|█         | 51/500 [01:08<10:03,  1.34s/it]"
     ]
    },
    {
     "name": "stdout",
     "output_type": "stream",
     "text": [
      "Step 50: total=0.31882694363594055 (res=0.005227609537541866, IC=0.25601330399513245, BC=0.057586051523685455)\n"
     ]
    },
    {
     "name": "stderr",
     "output_type": "stream",
     "text": [
      " 20%|██        | 101/500 [02:14<08:54,  1.34s/it]"
     ]
    },
    {
     "name": "stdout",
     "output_type": "stream",
     "text": [
      "Step 100: total=0.30657267570495605 (res=0.006643223576247692, IC=0.24496565759181976, BC=0.05496379733085632)\n"
     ]
    },
    {
     "name": "stderr",
     "output_type": "stream",
     "text": [
      " 30%|███       | 151/500 [03:21<07:31,  1.29s/it]"
     ]
    },
    {
     "name": "stdout",
     "output_type": "stream",
     "text": [
      "Step 150: total=0.06694258749485016 (res=0.009478764608502388, IC=0.013601270504295826, BC=0.04386255517601967)\n"
     ]
    },
    {
     "name": "stderr",
     "output_type": "stream",
     "text": [
      " 40%|████      | 201/500 [04:26<06:27,  1.29s/it]"
     ]
    },
    {
     "name": "stdout",
     "output_type": "stream",
     "text": [
      "Step 200: total=0.03132990375161171 (res=0.0010828326921910048, IC=0.002798545639961958, BC=0.02744852565228939)\n"
     ]
    },
    {
     "name": "stderr",
     "output_type": "stream",
     "text": [
      " 50%|█████     | 251/500 [05:31<05:27,  1.32s/it]"
     ]
    },
    {
     "name": "stdout",
     "output_type": "stream",
     "text": [
      "Step 250: total=0.023211022838950157 (res=0.0008691379916854203, IC=0.001235458068549633, BC=0.021106427535414696)\n"
     ]
    },
    {
     "name": "stderr",
     "output_type": "stream",
     "text": [
      " 60%|██████    | 301/500 [06:38<04:22,  1.32s/it]"
     ]
    },
    {
     "name": "stdout",
     "output_type": "stream",
     "text": [
      "Step 300: total=0.018851781263947487 (res=0.00080751848872751, IC=0.0008008892182260752, BC=0.01724337413907051)\n"
     ]
    },
    {
     "name": "stderr",
     "output_type": "stream",
     "text": [
      " 70%|███████   | 351/500 [07:45<03:20,  1.35s/it]"
     ]
    },
    {
     "name": "stdout",
     "output_type": "stream",
     "text": [
      "Step 350: total=0.013465852476656437 (res=0.00034935580333694816, IC=0.00045717990724369884, BC=0.012659316882491112)\n"
     ]
    },
    {
     "name": "stderr",
     "output_type": "stream",
     "text": [
      " 80%|████████  | 401/500 [08:51<02:09,  1.30s/it]"
     ]
    },
    {
     "name": "stdout",
     "output_type": "stream",
     "text": [
      "Step 400: total=0.009287240915000439 (res=0.00014141789870336652, IC=0.00026195545797236264, BC=0.008883867412805557)\n"
     ]
    },
    {
     "name": "stderr",
     "output_type": "stream",
     "text": [
      " 90%|█████████ | 451/500 [09:57<01:04,  1.32s/it]"
     ]
    },
    {
     "name": "stdout",
     "output_type": "stream",
     "text": [
      "Step 450: total=0.007219885941594839 (res=0.00016739593411330134, IC=0.00023767331731505692, BC=0.006814816500991583)\n"
     ]
    },
    {
     "name": "stderr",
     "output_type": "stream",
     "text": [
      "100%|██████████| 500/500 [11:01<00:00,  1.32s/it]\n"
     ]
    }
   ],
   "source": [
    "\n",
    "model2 = PINNsformer(d_out=1, d_hidden=512, d_model=32, N=1, heads=2).to(device)\n",
    "\n",
    "model2.apply(init_weights)\n",
    "\n",
    "optim2 = LBFGS(model2.parameters(), line_search_fn='strong_wolfe')\n",
    "\n",
    "def closure():\n",
    "    optim2.zero_grad()\n",
    "    lf, li, lb = loss_components(model2)  # All model calls and loss calculations inside\n",
    "    loss = lf + li + lb\n",
    "    loss.backward()\n",
    "    return loss\n",
    "\n",
    "\n",
    "\n",
    "for i in tqdm(range(500)):\n",
    "    optim2.step(closure)\n",
    "    # If you want to print losses, recompute them OUTSIDE the closure, not inside\n",
    "    if i % 50 == 0:\n",
    "        lf, li, lb = loss_components(model2)\n",
    "        loss = lf + li + lb\n",
    "        print(f\"Step {i}: total={loss.item()} (res={lf.item()}, IC={li.item()}, BC={lb.item()})\")\n",
    "\n",
    "        \n",
    "        "
   ]
  },
  {
   "cell_type": "code",
   "execution_count": 56,
   "metadata": {},
   "outputs": [
    {
     "data": {
      "image/png": "[encoded data removed]",
      "text/plain": [
       "<Figure size 288x216 with 2 Axes>"
      ]
     },
     "metadata": {
      "needs_background": "light"
     },
     "output_type": "display_data"
    }
   ],
   "source": [
    "res_test, _, _, _, _ = get_data([0,2*np.pi], [0,1], 15, 15)\n",
    "\n",
    "\n",
    "# Visualize PINNsformer\n",
    "res_test = make_time_sequence(res_test, num_step=5, step=1e-4) \n",
    "res_test = torch.tensor(res_test, dtype=torch.float32, requires_grad=True).to(device)\n",
    "x_test, t_test = res_test[:,:,0:1], res_test[:,:,1:2]\n",
    "\n",
    "\n",
    "with torch.no_grad():\n",
    "    pred = model2(x_test, t_test)[:,0:1]\n",
    "    pred = pred.cpu().detach().numpy()\n",
    "\n",
    "plt.figure(figsize=(4,3))\n",
    "plt.imshow(pred, extent=[0,np.pi*2,1,0], aspect='auto')\n",
    "plt.xlabel('x')\n",
    "plt.ylabel('t')\n",
    "plt.title('Predicted u(x,t)')\n",
    "plt.colorbar()\n",
    "plt.tight_layout()\n",
    "plt.savefig('./convection_pinnsformer_pred.png')\n",
    "plt.show()\n"
   ]
  },
  {
   "cell_type": "code",
   "execution_count": 59,
   "metadata": {},
   "outputs": [
    {
     "data": {
      "image/png": "[encoded data removed]",
      "text/plain": [
       "<Figure size 576x360 with 1 Axes>"
      ]
     },
     "metadata": {
      "needs_background": "light"
     },
     "output_type": "display_data"
    }
   ],
   "source": [
    "# Define the time snapshots you want to plot\n",
    "time_snapshots = [0.0,0.1256]\n",
    "x_points = 200\n",
    "num_step = 5\n",
    "step = 1e-4\n",
    "\n",
    "x_vals = np.linspace(0, 2 * np.pi, x_points)\n",
    "\n",
    "plt.figure(figsize=(8, 5))\n",
    "\n",
    "for t_val in time_snapshots:\n",
    "    # Create (x, t) pairs for this snapshot\n",
    "    x_grid = np.expand_dims(x_vals, axis=1)\n",
    "    t_grid = np.full_like(x_grid, t_val)\n",
    "    xt = np.concatenate([x_grid, t_grid], axis=1)  # shape (x_points, 2)\n",
    "    # Use make_time_sequence to create the sequence\n",
    "    xt_seq = make_time_sequence(xt, num_step=num_step, step=step)  # shape (x_points, num_step, 2)\n",
    "    xt_seq_tensor = torch.tensor(xt_seq, dtype=torch.float32).to(device)\n",
    "    # Split into x and t for the model\n",
    "    x_seq = xt_seq_tensor[:, :, 0:1]\n",
    "    t_seq = xt_seq_tensor[:, :, 1:2]\n",
    "    with torch.no_grad():\n",
    "        u_pred = model2(x_seq, t_seq)[:, 0, 0].cpu().numpy()  # Take the first in the sequence\n",
    "    plt.plot(x_vals, u_pred, label=f\"t={t_val:.2f}\")\n",
    "\n",
    "plt.xlabel('x')\n",
    "plt.ylabel('u(x, t)')\n",
    "plt.title('PINNsformer prediction at different times')\n",
    "plt.legend()\n",
    "plt.tight_layout()\n",
    "\n",
    "plt.show()"
   ]
  },
  {
   "cell_type": "code",
   "execution_count": null,
   "metadata": {},
   "outputs": [],
   "source": []
  }
 ],
 "metadata": {
  "kernelspec": {
   "display_name": "Python 3",
   "language": "python",
   "name": "python3"
  }
 },
 "nbformat": 4,
 "nbformat_minor": 2
}
